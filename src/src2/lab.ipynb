{
 "cells": [
  {
   "cell_type": "code",
   "execution_count": null,
   "metadata": {},
   "outputs": [],
   "source": []
  },
  {
   "cell_type": "code",
   "execution_count": null,
   "metadata": {},
   "outputs": [],
   "source": []
  },
  {
   "cell_type": "code",
   "execution_count": 3,
   "metadata": {},
   "outputs": [
    {
     "ename": "RuntimeError",
     "evalue": "size mismatch, got input (5), mat (5x5), vec (6)",
     "output_type": "error",
     "traceback": [
      "\u001b[1;31m---------------------------------------------------------------------------\u001b[0m\n",
      "\u001b[1;31mRuntimeError\u001b[0m                              Traceback (most recent call last)\n",
      "Cell \u001b[1;32mIn[3], line 6\u001b[0m\n",
      "\u001b[0;32m      3\u001b[0m expander \u001b[38;5;241m=\u001b[39m QFNNFieldExpanderV3()\n",
      "\u001b[0;32m      4\u001b[0m prompt \u001b[38;5;241m=\u001b[39m [\u001b[38;5;124m\"\u001b[39m\u001b[38;5;124mtruth\u001b[39m\u001b[38;5;124m\"\u001b[39m, \u001b[38;5;124m\"\u001b[39m\u001b[38;5;124memerges\u001b[39m\u001b[38;5;124m\"\u001b[39m, \u001b[38;5;124m\"\u001b[39m\u001b[38;5;124mfrom\u001b[39m\u001b[38;5;124m\"\u001b[39m, \u001b[38;5;124m\"\u001b[39m\u001b[38;5;124mthe\u001b[39m\u001b[38;5;124m\"\u001b[39m, \u001b[38;5;124m\"\u001b[39m\u001b[38;5;124mhidden\u001b[39m\u001b[38;5;124m\"\u001b[39m]\n",
      "\u001b[1;32m----> 6\u001b[0m dream_sequence \u001b[38;5;241m=\u001b[39m \u001b[43mexpander\u001b[49m\u001b[38;5;241;43m.\u001b[39;49m\u001b[43mgenerate_sequence\u001b[49m\u001b[43m(\u001b[49m\u001b[43mprompt\u001b[49m\u001b[43m,\u001b[49m\u001b[43m \u001b[49m\u001b[43mnum_new_tokens\u001b[49m\u001b[38;5;241;43m=\u001b[39;49m\u001b[38;5;241;43m30\u001b[39;49m\u001b[43m)\u001b[49m\n",
      "\u001b[0;32m      8\u001b[0m \u001b[38;5;28mprint\u001b[39m(\u001b[38;5;124m\"\u001b[39m\u001b[38;5;124m🌌 Dream Output:\u001b[39m\u001b[38;5;124m\"\u001b[39m, dream_sequence)\n",
      "\n",
      "File \u001b[1;32mc:\\Users\\casma\\OneDrive\\Desktop\\physicsFirst\\quantum_field_engine\\src\\src2\\qfnn_v3_dynamic_generator.py:18\u001b[0m, in \u001b[0;36mQFNNFieldExpanderV3.generate_sequence\u001b[1;34m(self, prompt_tokens, num_new_tokens, temperature)\u001b[0m\n",
      "\u001b[0;32m     15\u001b[0m \u001b[38;5;28;01mfor\u001b[39;00m _ \u001b[38;5;129;01min\u001b[39;00m \u001b[38;5;28mrange\u001b[39m(num_new_tokens):\n",
      "\u001b[0;32m     16\u001b[0m     \u001b[38;5;66;03m# Short field evolution to allow ψ stabilization\u001b[39;00m\n",
      "\u001b[0;32m     17\u001b[0m     \u001b[38;5;28;01mfor\u001b[39;00m _ \u001b[38;5;129;01min\u001b[39;00m \u001b[38;5;28mrange\u001b[39m(\u001b[38;5;241m30\u001b[39m):\n",
      "\u001b[1;32m---> 18\u001b[0m         field \u001b[38;5;241m=\u001b[39m \u001b[38;5;28;43mself\u001b[39;49m\u001b[38;5;241;43m.\u001b[39;49m\u001b[43mqfnn\u001b[49m\u001b[38;5;241;43m.\u001b[39;49m\u001b[43mvectorized_field_update\u001b[49m\u001b[43m(\u001b[49m\u001b[43mfield\u001b[49m\u001b[43m,\u001b[49m\u001b[43m \u001b[49m\u001b[43mtorch\u001b[49m\u001b[38;5;241;43m.\u001b[39;49m\u001b[43mroll\u001b[49m\u001b[43m(\u001b[49m\u001b[43mfield\u001b[49m\u001b[43m[\u001b[49m\u001b[38;5;124;43m\"\u001b[39;49m\u001b[38;5;124;43mθ\u001b[39;49m\u001b[38;5;124;43m\"\u001b[39;49m\u001b[43m]\u001b[49m\u001b[43m,\u001b[49m\u001b[43m \u001b[49m\u001b[43mshifts\u001b[49m\u001b[38;5;241;43m=\u001b[39;49m\u001b[38;5;241;43m-\u001b[39;49m\u001b[38;5;241;43m1\u001b[39;49m\u001b[43m)\u001b[49m\u001b[43m)\u001b[49m\n",
      "\u001b[0;32m     20\u001b[0m     \u001b[38;5;66;03m# Sample next token phase using path integral logic\u001b[39;00m\n",
      "\u001b[0;32m     21\u001b[0m     θ_candidates \u001b[38;5;241m=\u001b[39m torch\u001b[38;5;241m.\u001b[39mlinspace(\u001b[38;5;241m-\u001b[39mtorch\u001b[38;5;241m.\u001b[39mpi, torch\u001b[38;5;241m.\u001b[39mpi, \u001b[38;5;241m128\u001b[39m, device\u001b[38;5;241m=\u001b[39m\u001b[38;5;28mself\u001b[39m\u001b[38;5;241m.\u001b[39mdevice)\n",
      "\n",
      "File \u001b[1;32mc:\\Users\\casma\\OneDrive\\Desktop\\physicsFirst\\quantum_field_engine\\src\\src2\\axiomatic_qfnn_v3.py:82\u001b[0m, in \u001b[0;36mAxiomaticQuantumFieldV3.vectorized_field_update\u001b[1;34m(self, field, θ_target)\u001b[0m\n",
      "\u001b[0;32m     79\u001b[0m \u001b[38;5;28;01mdef\u001b[39;00m \u001b[38;5;21mvectorized_field_update\u001b[39m(\u001b[38;5;28mself\u001b[39m, field, θ_target):\n",
      "\u001b[0;32m     80\u001b[0m     ψ, W, F_stack \u001b[38;5;241m=\u001b[39m field[\u001b[38;5;124m\"\u001b[39m\u001b[38;5;124mψ\u001b[39m\u001b[38;5;124m\"\u001b[39m], field[\u001b[38;5;124m\"\u001b[39m\u001b[38;5;124mW\u001b[39m\u001b[38;5;124m\"\u001b[39m], field[\u001b[38;5;124m\"\u001b[39m\u001b[38;5;124mF_stack\u001b[39m\u001b[38;5;124m\"\u001b[39m]\n",
      "\u001b[1;32m---> 82\u001b[0m     V \u001b[38;5;241m=\u001b[39m (\u001b[43mW\u001b[49m\u001b[43m \u001b[49m\u001b[38;5;241;43m@\u001b[39;49m\u001b[43m \u001b[49m\u001b[43mψ\u001b[49m)\u001b[38;5;241m.\u001b[39mreal \u001b[38;5;241m+\u001b[39m \u001b[38;5;241m0.95\u001b[39m \u001b[38;5;241m*\u001b[39m F_stack\u001b[38;5;241m.\u001b[39mreal\n",
      "\u001b[0;32m     83\u001b[0m     H_ψ \u001b[38;5;241m=\u001b[39m \u001b[38;5;241m-\u001b[39mψ \u001b[38;5;241m+\u001b[39m V \u001b[38;5;241m*\u001b[39m ψ\n",
      "\u001b[0;32m     85\u001b[0m     adaptive_diffusion_coef \u001b[38;5;241m=\u001b[39m torch\u001b[38;5;241m.\u001b[39mtensor(\u001b[38;5;28mself\u001b[39m\u001b[38;5;241m.\u001b[39mconfig[\u001b[38;5;124m\"\u001b[39m\u001b[38;5;124mdiffusion_coef\u001b[39m\u001b[38;5;124m\"\u001b[39m], device\u001b[38;5;241m=\u001b[39m\u001b[38;5;28mself\u001b[39m\u001b[38;5;241m.\u001b[39mdevice)\n",
      "\n",
      "\u001b[1;31mRuntimeError\u001b[0m: size mismatch, got input (5), mat (5x5), vec (6)"
     ]
    }
   ],
   "source": [
    "from qfnn_v3_dynamic_generator_fixed import QFNNFieldExpanderV3\n",
    "\n",
    "expander = QFNNFieldExpanderV3()\n",
    "prompt = [\"truth\", \"emerges\", \"from\", \"the\", \"hidden\"]\n",
    "\n",
    "dream_sequence = expander.generate_sequence(prompt, num_new_tokens=30)\n",
    "\n",
    "print(\"🌌 Dream Output:\", dream_sequence)\n"
   ]
  }
 ],
 "metadata": {
  "language_info": {
   "name": "python"
  }
 },
 "nbformat": 4,
 "nbformat_minor": 2
}
