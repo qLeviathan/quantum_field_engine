{
 "cells": [
  {
   "cell_type": "code",
   "execution_count": 1,
   "metadata": {},
   "outputs": [],
   "source": [
    "from transformers import AutoTokenizer\n",
    "import torch\n",
    "import math\n",
    "\n",
    "class QFNNPolarTokenBank:\n",
    "    def __init__(self, model_name=\"gpt2\", device=\"cuda\" if torch.cuda.is_available() else \"cpu\"):\n",
    "        self.device = device\n",
    "        self.tokenizer = AutoTokenizer.from_pretrained(model_name)\n",
    "        self.tokens = list(self.tokenizer.get_vocab().keys())\n",
    "        self.golden_ratio = (1 + math.sqrt(5)) / 2\n",
    "        self.token_polar_map = self.build_polar_token_map()\n",
    "    \n",
    "    def build_polar_token_map(self):\n",
    "        N = len(self.tokens)\n",
    "        i = torch.arange(N, dtype=torch.float32, device=self.device)\n",
    "        \n",
    "        # Phase angle with golden ratio\n",
    "        θ = (i * self.golden_ratio * 2 * torch.pi) % (2 * torch.pi)\n",
    "        \n",
    "        # Radial position (√(n/N)) for natural quantum embedding\n",
    "        r = 0.3 + 0.7 * torch.sqrt((i + 1.0) / N)\n",
    "\n",
    "        token_polar_map = {}\n",
    "        for idx, token in enumerate(self.tokens):\n",
    "            token_polar_map[token] = (r[idx].item(), θ[idx].item())\n",
    "        \n",
    "        return token_polar_map\n",
    "    \n",
    "    def get_token_coordinates(self, token):\n",
    "        return self.token_polar_map.get(token, None)\n"
   ]
  },
  {
   "cell_type": "code",
   "execution_count": null,
   "metadata": {},
   "outputs": [],
   "source": [
    "from qfnn_polar_token_bank import QFNNPolarTokenBank\n",
    "\n",
    "token_bank = QFNNPolarTokenBank()\n",
    "coords = token_bank.get_token_coordinates('the')\n",
    "print(coords)  # (r, θ) for 'the'\n"
   ]
  },
  {
   "cell_type": "code",
   "execution_count": null,
   "metadata": {},
   "outputs": [],
   "source": []
  }
 ],
 "metadata": {
  "language_info": {
   "name": "python"
  }
 },
 "nbformat": 4,
 "nbformat_minor": 2
}
